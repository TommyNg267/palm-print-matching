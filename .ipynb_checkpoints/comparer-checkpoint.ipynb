{
 "cells": [
  {
   "cell_type": "code",
   "execution_count": 1,
   "metadata": {},
   "outputs": [],
   "source": [
    "import numpy as np\n",
    "import cv2\n",
    "from matplotlib import pyplot as plt\n",
    "import pandas as pd\n",
    "import pywt\n",
    "import random\n"
   ]
  },
  {
   "cell_type": "code",
   "execution_count": 16,
   "metadata": {},
   "outputs": [],
   "source": [
    "l=5\n",
    "S=4\n",
    "ci = [0.11,0.17,0.25,0.25,0.23]\n",
    "threshold = 0.2 # 0.2 for online dataset, 0.3 - 0.4 for demo\n"
   ]
  },
  {
   "cell_type": "code",
   "execution_count": 3,
   "metadata": {},
   "outputs": [],
   "source": [
    "#calculate the wavelet energy feature of ROI\n",
    "\n",
    "def getE(dir):\n",
    "\n",
    "    testImg = cv2.imread(dir)\n",
    "    testImg = cv2.cvtColor(testImg, cv2.COLOR_BGR2GRAY)\n",
    "    testImg = cv2.resize(testImg,(256,256))\n",
    "    coeffs =pywt.wavedec2(testImg, 'Haar', mode='per', level = l)\n",
    "    cA5,(cH5, cV5, cD5), (cH4, cV4, cD4), (cH3, cV3, cD3), (cH2, cV2, cD2), (cH1, cV1, cD1) = coeffs\n",
    "    HVDs = [(cH1, cV1, cD1), (cH2, cV2, cD2), (cH3, cV3, cD3), (cH4, cV4, cD4),(cH5, cV5, cD5)]\n",
    "    V=[]\n",
    "    for HVD in HVDs:\n",
    "        Vl=[]\n",
    "        Hf,Vf,Df = HVD\n",
    "        M,N = Hf.shape\n",
    "        A = int(M/S)\n",
    "        subHf = Hf[0:M-M%A, 0:N-N%A].reshape(M//A, A, -1, A).swapaxes(1, 2).reshape(-1, A, A)\n",
    "        subVf = Vf[0:M-M%A, 0:N-N%A].reshape(M//A, A, -1, A).swapaxes(1, 2).reshape(-1, A, A)\n",
    "        subDf = Df[0:M-M%A, 0:N-N%A].reshape(M//A, A, -1, A).swapaxes(1, 2).reshape(-1, A, A)\n",
    "        for h,v,d in zip(subHf, subVf,subDf):\n",
    "            Eh = np.sum(h**2)\n",
    "            Ev = np.sum(v**2)\n",
    "            Ed = np.sum(d**2)\n",
    "            Vs = [Eh, Ev, Ed]\n",
    "            Vl.append(Vs)\n",
    "        V.append(Vl)\n",
    "    return V"
   ]
  },
  {
   "cell_type": "code",
   "execution_count": 17,
   "metadata": {},
   "outputs": [],
   "source": [
    "def dist(V1,V2,l,ci):\n",
    "    V1 = V1 / np.sum(V1)\n",
    "    V2 = V2 / np.sum(V2)\n",
    "    temp2 = [0,0,0]\n",
    "    d=[0,0,0]\n",
    "    for c, v1,v2 in zip(ci,V1,V2):\n",
    "        for v12, v22 in zip(v1, v2):\n",
    "            temp = abs(np.subtract(v12,v22))\n",
    "            temp2 = np.add(temp,temp2)\n",
    "        d = np.add(np.dot(c,temp2),d)\n",
    "    return d"
   ]
  },
  {
   "cell_type": "code",
   "execution_count": null,
   "metadata": {},
   "outputs": [],
   "source": [
    "def classifier(V1,V2,l,ci, threshold):\n",
    "    V1 = V1 / np.sum(V1)\n",
    "    V2 = V2 / np.sum(V2)\n",
    "    temp2 = [0,0,0]\n",
    "    d=[0,0,0]\n",
    "    for c, v1,v2 in zip(ci,V1,V2):\n",
    "        for v12, v22 in zip(v1, v2):\n",
    "            temp = abs(np.subtract(v12,v22))\n",
    "            temp2 = np.add(temp,temp2)\n",
    "        d = np.add(np.dot(c,temp2),d)\n",
    "    if(sum(d)>threshold):\n",
    "        return 0\n",
    "    elif(sum(d)<=threshold):\n",
    "        return 1"
   ]
  },
  {
   "cell_type": "code",
   "execution_count": 5,
   "metadata": {},
   "outputs": [
    {
     "name": "stdout",
     "output_type": "stream",
     "text": [
      "[0.10071604 0.0776478  0.0327008 ]\n",
      "[0.09479179 0.07786105 0.02900598]\n",
      "[0.10492645 0.0754191  0.0256168 ]\n",
      "[0.09937415 0.08512268 0.0244171 ]\n",
      "[0.08875175 0.07919208 0.01956283]\n",
      "[0.09645345 0.07649072 0.02963589]\n",
      "[0.10021794 0.07229662 0.02531799]\n",
      "[0.10537744 0.06864652 0.02889366]\n",
      "[0.10146731 0.0673648  0.02797805]\n"
     ]
    }
   ],
   "source": [
    "#compare tommy1 with stored 9 tommy's roi\n",
    "\n",
    "V_tommy1 = getE('./images/roi/tommy/tommy1.jpg')\n",
    "for i in range(1,10):\n",
    "    Vtest = getE('./images/roi/tommy/test'+str(i)+'.jpg')\n",
    "#     print(dist(V_tommy1, Vtest,l,ci))\n"
   ]
  },
  {
   "cell_type": "code",
   "execution_count": 6,
   "metadata": {},
   "outputs": [
    {
     "name": "stdout",
     "output_type": "stream",
     "text": [
      "[0.18641127 0.12492083 0.04924758]\n",
      "[0.18781891 0.12253955 0.04348076]\n",
      "[0.20309726 0.12109217 0.04547697]\n",
      "[0.18248371 0.13207218 0.04248965]\n",
      "[0.18724838 0.11269475 0.03773438]\n",
      "[0.18513942 0.12766035 0.04439952]\n",
      "[0.19234564 0.12760736 0.04096652]\n",
      "[0.19286465 0.13194841 0.04778537]\n",
      "[0.1870121  0.12924064 0.0433214 ]\n"
     ]
    }
   ],
   "source": [
    "#compare tommy2 with stored 9 tommy's roi\n",
    "\n",
    "\n",
    "V_tommy2 = getE('./images/roi/tommy/tommy2.jpg')\n",
    "for i in range(1,10):\n",
    "    Vtest = getE('./images/roi/tommy/test'+str(i)+'.jpg')\n",
    "#     print(dist(V_tommy2, Vtest,l,ci))\n",
    "    print(sum(dist(V_tommy2, Vtest,l,ci)))\n"
   ]
  },
  {
   "cell_type": "code",
   "execution_count": 7,
   "metadata": {},
   "outputs": [
    {
     "name": "stdout",
     "output_type": "stream",
     "text": [
      "[0.13008334 0.11436459 0.03982586]\n",
      "[0.12778931 0.10618728 0.03473597]\n",
      "[0.13809767 0.1070153  0.03801067]\n",
      "[0.10562954 0.09628862 0.03152894]\n",
      "[0.1028303  0.09527319 0.02887889]\n",
      "[0.10895071 0.11805643 0.03439112]\n",
      "[0.1260185  0.10817416 0.02968768]\n",
      "[0.13366532 0.11640035 0.03388042]\n",
      "[0.12609678 0.11466799 0.0328108 ]\n"
     ]
    }
   ],
   "source": [
    "#compare tommy3 (95px * 95px) with stored 9 tommy's roi\n",
    "\n",
    "\n",
    "V_tommy3 = getE('./images/roi/tommy/tommy3.jpg')\n",
    "for i in range(1,10):\n",
    "    Vtest = getE('./images/roi/tommy/test'+str(i)+'.jpg')\n",
    "#     print(dist(V_tommy3, Vtest,l,ci))\n",
    "    print(sum(dist(V_tommy3, Vtest,l,ci)))"
   ]
  },
  {
   "cell_type": "code",
   "execution_count": 8,
   "metadata": {},
   "outputs": [
    {
     "name": "stdout",
     "output_type": "stream",
     "text": [
      "0.4028936533777637\n",
      "0.3961280262506939\n",
      "0.40303349299341923\n",
      "0.3775465195766488\n",
      "0.37522163448661316\n",
      "0.39100534478282867\n",
      "0.4080058910608747\n",
      "0.41109651862088414\n",
      "0.4095910651641321\n"
     ]
    }
   ],
   "source": [
    "#compare eddy1 with stored 9 tommy's roi\n",
    "\n",
    "V_eddy1 = getE('./images/roi/eddy/eddy1.jpg')\n",
    "for i in range(1,10):\n",
    "    Vtest = getE('./images/roi/tommy/test'+str(i)+'.jpg')\n",
    "#     print(dist(V_eddy1, Vtest,l,ci))\n",
    "    print(sum(dist(V_eddy1, Vtest,l,ci)))\n"
   ]
  },
  {
   "cell_type": "code",
   "execution_count": 13,
   "metadata": {},
   "outputs": [
    {
     "name": "stdout",
     "output_type": "stream",
     "text": [
      "0.12285192460850801\n",
      "0.24187923920913235\n",
      "15\n"
     ]
    }
   ],
   "source": [
    "V_s1_1 = getE('./images/roi/session1/00151.bmp')\n",
    "record =[]\n",
    "for i in [\"{0:04}\".format(i) for i in range(100)]:\n",
    "    offset = random.randrange(1,9) \n",
    "    Vtest = getE('./images/roi/session2/'+str(i)+str(offset)+'.bmp')\n",
    "#     Vtest2 = getE('./images/roi/session2/'+str(i)+str(offset)+'.bmp')\n",
    "#     Vtest3 = getE('./images/roi/session2/'+str(i)+str(offset-1)+'.bmp')\n",
    "#     Vtest = Vtest1 + Vtest2 + Vtest3\n",
    "#     Vtest = Vtest/3\n",
    "    record.append(sum(dist(V_s1_1, Vtest,l,ci)))\n",
    "print(min(record))\n",
    "print(sum(record)/100)\n",
    "print(record.index(min(record)))"
   ]
  },
  {
   "cell_type": "code",
   "execution_count": 10,
   "metadata": {},
   "outputs": [],
   "source": [
    "record =[]\n",
    "for i in [\"{0:05}\".format(i) for i in range(151,161)]:\n",
    "#     print(i)\n",
    "    offset = random.randrange(10) \n",
    "    Vtest = getE('./images/roi/session2/'+i+'.bmp')\n",
    "    record.append(sum(dist(V_s1_1, Vtest,l,ci)))"
   ]
  },
  {
   "cell_type": "code",
   "execution_count": 11,
   "metadata": {},
   "outputs": [
    {
     "name": "stdout",
     "output_type": "stream",
     "text": [
      "[0.11666201262980237, 0.12285192460850801, 0.14603317481693093, 0.09866831463014436, 0.11526725616913543, 0.11130669736898237, 0.11459738861446586, 0.16845677832035683, 0.11792073066685561, 0.11583011880166943]\n"
     ]
    }
   ],
   "source": [
    "print(record)"
   ]
  },
  {
   "cell_type": "code",
   "execution_count": 14,
   "metadata": {},
   "outputs": [
    {
     "name": "stdout",
     "output_type": "stream",
     "text": [
      "3\n"
     ]
    }
   ],
   "source": [
    "counter = 0\n",
    "for i in record:\n",
    "    if i < 0.2:\n",
    "        counter+=1\n",
    "print(counter)"
   ]
  },
  {
   "cell_type": "code",
   "execution_count": 101,
   "metadata": {},
   "outputs": [
    {
     "name": "stdout",
     "output_type": "stream",
     "text": [
      "[1, 2]\n"
     ]
    }
   ],
   "source": [
    "print([1]+[2])"
   ]
  },
  {
   "cell_type": "code",
   "execution_count": null,
   "metadata": {},
   "outputs": [],
   "source": []
  }
 ],
 "metadata": {
  "kernelspec": {
   "display_name": "Python 3",
   "language": "python",
   "name": "python3"
  },
  "language_info": {
   "codemirror_mode": {
    "name": "ipython",
    "version": 3
   },
   "file_extension": ".py",
   "mimetype": "text/x-python",
   "name": "python",
   "nbconvert_exporter": "python",
   "pygments_lexer": "ipython3",
   "version": "3.7.9"
  }
 },
 "nbformat": 4,
 "nbformat_minor": 4
}
