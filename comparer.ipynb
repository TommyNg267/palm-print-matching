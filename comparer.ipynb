{
 "cells": [
  {
   "cell_type": "code",
   "execution_count": 46,
   "metadata": {},
   "outputs": [],
   "source": [
    "import numpy as np\n",
    "import cv2\n",
    "from matplotlib import pyplot as plt\n",
    "import pandas as pd\n",
    "import pywt\n",
    "from scipy.spatial import distance\n",
    "from sklearn import preprocessing\n",
    "\n"
   ]
  },
  {
   "cell_type": "code",
   "execution_count": 47,
   "metadata": {},
   "outputs": [],
   "source": [
    "M=4\n",
    "S=4"
   ]
  },
  {
   "cell_type": "code",
   "execution_count": 48,
   "metadata": {},
   "outputs": [],
   "source": [
    "#calculate the wavelet energy feature of ROI\n",
    "\n",
    "def getE(dir):\n",
    "\n",
    "    testImg = cv2.imread(dir)\n",
    "    testImg = cv2.cvtColor(testImg, cv2.COLOR_BGR2GRAY)\n",
    "    testImg = cv2.resize(testImg,(256,256))\n",
    "    coeffs =pywt.wavedec2(testImg, 'Haar', mode='per', level = M)\n",
    "    cA4, (cH4, cV4, cD4), (cH3, cV3, cD3), (cH2, cV2, cD2), (cH1, cV1, cD1) = coeffs\n",
    "    arr = [(cH4, cV4, cD4), (cH3, cV3, cD3), (cH2, cV2, cD2), (cH1, cV1, cD1)]\n",
    "    V = []\n",
    "\n",
    "    for cs in arr:\n",
    "        for i in cs:\n",
    "            Vi=[]\n",
    "            for j in range(S):\n",
    "                for k in range(S):\n",
    "                    size = int(i.shape[0]/4)\n",
    "                    xstart = j*size\n",
    "                    ystart = k*size\n",
    "                    vjk = i[xstart:xstart+size,ystart:ystart+size]\n",
    "                    E = np.sum(np.square(vjk))\n",
    "    #                 Vi.append(E)\n",
    "                    V.append(E)\n",
    "    return V"
   ]
  },
  {
   "cell_type": "code",
   "execution_count": 49,
   "metadata": {},
   "outputs": [
    {
     "name": "stdout",
     "output_type": "stream",
     "text": [
      "728313.41015625\n",
      "669618.7460937519\n",
      "781295.5273437502\n",
      "600699.4296874998\n",
      "469064.7812500004\n",
      "574317.3320312509\n",
      "637198.9804687515\n",
      "609283.5078125005\n",
      "567222.5468750012\n"
     ]
    }
   ],
   "source": [
    "#compare tommy1 with stored 9 tommy's roi\n",
    "\n",
    "V_tommy1 = getE('./images/roi/tommy/tommy1.jpg')\n",
    "for i in range(1,10):\n",
    "    Vtest = getE('./images/roi/tommy/test'+str(i)+'.jpg')\n",
    "    print(distance.cityblock(V_tommy1, Vtest))"
   ]
  },
  {
   "cell_type": "code",
   "execution_count": 50,
   "metadata": {},
   "outputs": [
    {
     "name": "stdout",
     "output_type": "stream",
     "text": [
      "1295855.1562500014\n",
      "1251995.6406250019\n",
      "1478556.6640625016\n",
      "1143245.902343751\n",
      "1004334.9726562514\n",
      "1114640.976562502\n",
      "1244452.2500000012\n",
      "1140755.4101562512\n",
      "974136.95703125\n"
     ]
    }
   ],
   "source": [
    "#compare tommy2 with stored 9 tommy's roi\n",
    "\n",
    "\n",
    "V_tommy2 = getE('./images/roi/tommy/tommy2.jpg')\n",
    "for i in range(1,10):\n",
    "    Vtest = getE('./images/roi/tommy/test'+str(i)+'.jpg')\n",
    "    print(distance.cityblock(V_tommy2, Vtest))\n",
    "\n"
   ]
  },
  {
   "cell_type": "code",
   "execution_count": 51,
   "metadata": {},
   "outputs": [
    {
     "name": "stdout",
     "output_type": "stream",
     "text": [
      "1876101.7851562526\n",
      "1865213.105468751\n",
      "1815860.1132812505\n",
      "1801162.6562500019\n",
      "1938538.3359375019\n",
      "1826110.800781251\n",
      "1833750.0585937519\n",
      "1879511.031250002\n",
      "1865305.5312500016\n"
     ]
    }
   ],
   "source": [
    "#compare eddy1 with stored 9 tommy's roi\n",
    "\n",
    "V_eddy1 = getE('./images/roi/eddy/eddy1.jpg')\n",
    "for i in range(1,10):\n",
    "    Vtest = getE('./images/roi/tommy/test'+str(i)+'.jpg')\n",
    "    print(distance.cityblock(V_eddy1, Vtest))\n",
    "\n"
   ]
  },
  {
   "cell_type": "code",
   "execution_count": null,
   "metadata": {},
   "outputs": [],
   "source": []
  }
 ],
 "metadata": {
  "kernelspec": {
   "display_name": "Python 3",
   "language": "python",
   "name": "python3"
  },
  "language_info": {
   "codemirror_mode": {
    "name": "ipython",
    "version": 3
   },
   "file_extension": ".py",
   "mimetype": "text/x-python",
   "name": "python",
   "nbconvert_exporter": "python",
   "pygments_lexer": "ipython3",
   "version": "3.7.9"
  }
 },
 "nbformat": 4,
 "nbformat_minor": 4
}
