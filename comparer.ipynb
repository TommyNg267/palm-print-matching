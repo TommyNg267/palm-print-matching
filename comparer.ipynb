{
 "cells": [
  {
   "cell_type": "code",
   "execution_count": 1,
   "metadata": {},
   "outputs": [],
   "source": [
    "import numpy as np\n",
    "import cv2\n",
    "from matplotlib import pyplot as plt\n",
    "import pandas as pd\n",
    "import pywt\n",
    "import random\n"
   ]
  },
  {
   "cell_type": "code",
   "execution_count": 16,
   "metadata": {},
   "outputs": [],
   "source": [
    "l=5\n",
    "S=4\n",
    "ci = [0.11,0.17,0.25,0.25,0.23]\n",
    "threshold = 0.2 # 0.2 for online dataset, 0.3 - 0.4 for demo\n"
   ]
  },
  {
   "cell_type": "code",
   "execution_count": 3,
   "metadata": {},
   "outputs": [],
   "source": [
    "#calculate the wavelet energy feature of ROI\n",
    "\n",
    "def getE(dir):\n",
    "\n",
    "    testImg = cv2.imread(dir)\n",
    "    testImg = cv2.cvtColor(testImg, cv2.COLOR_BGR2GRAY)\n",
    "    testImg = cv2.resize(testImg,(256,256))\n",
    "    coeffs =pywt.wavedec2(testImg, 'Haar', mode='per', level = l)\n",
    "    cA5,(cH5, cV5, cD5), (cH4, cV4, cD4), (cH3, cV3, cD3), (cH2, cV2, cD2), (cH1, cV1, cD1) = coeffs\n",
    "    HVDs = [(cH1, cV1, cD1), (cH2, cV2, cD2), (cH3, cV3, cD3), (cH4, cV4, cD4),(cH5, cV5, cD5)]\n",
    "    V=[]\n",
    "    for HVD in HVDs:\n",
    "        Vl=[]\n",
    "        Hf,Vf,Df = HVD\n",
    "        M,N = Hf.shape\n",
    "        A = int(M/S)\n",
    "        subHf = Hf[0:M-M%A, 0:N-N%A].reshape(M//A, A, -1, A).swapaxes(1, 2).reshape(-1, A, A)\n",
    "        subVf = Vf[0:M-M%A, 0:N-N%A].reshape(M//A, A, -1, A).swapaxes(1, 2).reshape(-1, A, A)\n",
    "        subDf = Df[0:M-M%A, 0:N-N%A].reshape(M//A, A, -1, A).swapaxes(1, 2).reshape(-1, A, A)\n",
    "        for h,v,d in zip(subHf, subVf,subDf):\n",
    "            Eh = np.sum(h**2)\n",
    "            Ev = np.sum(v**2)\n",
    "            Ed = np.sum(d**2)\n",
    "            Vs = [Eh, Ev, Ed]\n",
    "            Vl.append(Vs)\n",
    "        V.append(Vl)\n",
    "    return V"
   ]
  },
  {
   "cell_type": "code",
   "execution_count": 17,
   "metadata": {},
   "outputs": [],
   "source": [
    "def dist(V1,V2,l,ci):\n",
    "    V1 = V1 / np.sum(V1)\n",
    "    V2 = V2 / np.sum(V2)\n",
    "    temp2 = [0,0,0]\n",
    "    d=[0,0,0]\n",
    "    for c, v1,v2 in zip(ci,V1,V2):\n",
    "        for v12, v22 in zip(v1, v2):\n",
    "            temp = abs(np.subtract(v12,v22))\n",
    "            temp2 = np.add(temp,temp2)\n",
    "        d = np.add(np.dot(c,temp2),d)\n",
    "    return d"
   ]
  },
  {
   "cell_type": "code",
   "execution_count": 18,
   "metadata": {},
   "outputs": [],
   "source": [
    "def classifier(V1,V2,l,ci, threshold):\n",
    "    d = dist(V1,V2,l,ci)\n",
    "    if(sum(d)>threshold):\n",
    "        return 0\n",
    "    elif(sum(d)<=threshold):\n",
    "        return 1"
   ]
  },
  {
   "cell_type": "code",
   "execution_count": 33,
   "metadata": {},
   "outputs": [
    {
     "name": "stdout",
     "output_type": "stream",
     "text": [
      "3535\n"
     ]
    }
   ],
   "source": [
    "thresholds = np.arange(0.1,0.32,0.02)\n",
    "r =random.randrange(1,6000) \n",
    "# print(thresholds)\n",
    "print(r)"
   ]
  },
  {
   "cell_type": "code",
   "execution_count": 37,
   "metadata": {},
   "outputs": [
    {
     "name": "stdout",
     "output_type": "stream",
     "text": [
      "3530\n"
     ]
    }
   ],
   "source": [
    "print(r//10 *10)"
   ]
  },
  {
   "cell_type": "code",
   "execution_count": 31,
   "metadata": {},
   "outputs": [],
   "source": [
    "\n",
    "def get_far(labelFalse_predictTrue,labelTrue_predictTrue):\n",
    "    far = labelFalse_predictTrue/(labelFalse_predictTrue+labelTrue_predictTrue)\n",
    "    return(far)\n",
    " \n",
    "def get_frr(labelTrue_predictFalse,labelFalse_predictFalse):\n",
    "    frr = labelTrue_predictFalse/(labelTrue_predictFalse+labelFalse_predictFalse)\n",
    "    return(frr)\n"
   ]
  },
  {
   "cell_type": "code",
   "execution_count": 38,
   "metadata": {},
   "outputs": [],
   "source": [
    "Vr = getE('./images/roi/session1/{0:05}.bmp'.format(r))"
   ]
  },
  {
   "cell_type": "code",
   "execution_count": null,
   "metadata": {},
   "outputs": [],
   "source": [
    "for t in thresholds:\n",
    "    lf_pf = 0\n",
    "    lf_pt = 0\n",
    "    lt_pf = 0\n",
    "    lt_pt = 0\n",
    "#     for i in range(len(datas)):\n",
    "    for j,k in zip([\"{0:05}\".format(i) for i in range(1,6001)],range(6000)):\n",
    "        Vtest = getE('./images/roi/session2/'+str(j)+'.bmp')\n",
    "        pre = classifier(Vr,Vtest,l,ci, t)\n",
    "#         print(pre,label)\n",
    "        if((j<(r//10 *10) or j>(r//10 *10+10) ) and pre==0):\n",
    "            lf_pf += 1\n",
    "        elif((j<(r//10 *10) or j>(r//10 *10+10)) and pre==1):\n",
    "            lf_pt += 1\n",
    "        elif((j>(r//10 *10) and j<(r//10 *10+10)) and pre==0):\n",
    "            lt_pf += 1\n",
    "        elif((j>(r//10 *10) and j<(r//10 *10+10)) and pre==1):\n",
    "            lt_pt += 1\n",
    "    far = get_far(lf_pt,lt_pt)\n",
    "    frr = get_frr(lt_pf,lf_pf)\n",
    "    scores.append([t,far,frr,abs(far-frr)])\n",
    "scores = np.array(scores)\n",
    "print(np.array(scores))\n",
    " \n",
    "plt.plot(scores[:,0],scores[:,1])\n",
    "plt.plot(scores[:,0],scores[:,2])\n",
    "#plt.plot(scores[:,0],scores[:,3])\n",
    "plt.show()"
   ]
  },
  {
   "cell_type": "code",
   "execution_count": 19,
   "metadata": {},
   "outputs": [
    {
     "name": "stdout",
     "output_type": "stream",
     "text": [
      "0.211064636567827\n",
      "0.20165881811992292\n",
      "0.20596235420527262\n",
      "0.20891392621553218\n",
      "0.18750665504242728\n",
      "0.20258006680179258\n",
      "0.19783255477914136\n",
      "0.20291761166618216\n",
      "0.19681016987329386\n"
     ]
    }
   ],
   "source": [
    "#compare tommy1 with stored 9 tommy's roi\n",
    "\n",
    "V_tommy1 = getE('./images/roi/tommy/tommy1.jpg')\n",
    "for i in range(1,10):\n",
    "    Vtest = getE('./images/roi/tommy/test'+str(i)+'.jpg')\n",
    "#     print(dist(V_tommy1, Vtest,l,ci))\n",
    "    print(sum(dist(V_tommy1, Vtest,l,ci)))"
   ]
  },
  {
   "cell_type": "code",
   "execution_count": 20,
   "metadata": {},
   "outputs": [
    {
     "name": "stdout",
     "output_type": "stream",
     "text": [
      "0.36057968153097825\n",
      "0.35383921931049833\n",
      "0.3696663919094402\n",
      "0.3570455433807344\n",
      "0.337677515194567\n",
      "0.35719929067954276\n",
      "0.3609195123819375\n",
      "0.37259842740957694\n",
      "0.359574134746077\n"
     ]
    }
   ],
   "source": [
    "#compare tommy2 with stored 9 tommy's roi\n",
    "\n",
    "\n",
    "V_tommy2 = getE('./images/roi/tommy/tommy2.jpg')\n",
    "for i in range(1,10):\n",
    "    Vtest = getE('./images/roi/tommy/test'+str(i)+'.jpg')\n",
    "#     print(dist(V_tommy2, Vtest,l,ci))\n",
    "    print(sum(dist(V_tommy2, Vtest,l,ci)))\n"
   ]
  },
  {
   "cell_type": "code",
   "execution_count": 21,
   "metadata": {},
   "outputs": [
    {
     "name": "stdout",
     "output_type": "stream",
     "text": [
      "0.2842737845305574\n",
      "0.26871255559804824\n",
      "0.28312364069772655\n",
      "0.23344709528992363\n",
      "0.22698238062976045\n",
      "0.261398268360224\n",
      "0.26388034228517987\n",
      "0.2839460995711548\n",
      "0.273575572983223\n"
     ]
    }
   ],
   "source": [
    "#compare tommy3 (95px * 95px) with stored 9 tommy's roi\n",
    "\n",
    "\n",
    "V_tommy3 = getE('./images/roi/tommy/tommy3.jpg')\n",
    "for i in range(1,10):\n",
    "    Vtest = getE('./images/roi/tommy/test'+str(i)+'.jpg')\n",
    "#     print(dist(V_tommy3, Vtest,l,ci))\n",
    "    print(sum(dist(V_tommy3, Vtest,l,ci)))"
   ]
  },
  {
   "cell_type": "code",
   "execution_count": 22,
   "metadata": {},
   "outputs": [
    {
     "name": "stdout",
     "output_type": "stream",
     "text": [
      "0.4028936533777637\n",
      "0.3961280262506939\n",
      "0.40303349299341923\n",
      "0.3775465195766488\n",
      "0.37522163448661316\n",
      "0.39100534478282867\n",
      "0.4080058910608747\n",
      "0.41109651862088414\n",
      "0.4095910651641321\n"
     ]
    }
   ],
   "source": [
    "#compare eddy1 with stored 9 tommy's roi\n",
    "\n",
    "V_eddy1 = getE('./images/roi/eddy/eddy1.jpg')\n",
    "for i in range(1,10):\n",
    "    Vtest = getE('./images/roi/tommy/test'+str(i)+'.jpg')\n",
    "#     print(dist(V_eddy1, Vtest,l,ci))\n",
    "    print(sum(dist(V_eddy1, Vtest,l,ci)))\n"
   ]
  },
  {
   "cell_type": "code",
   "execution_count": 25,
   "metadata": {},
   "outputs": [
    {
     "name": "stdout",
     "output_type": "stream",
     "text": [
      "0.11526725616913543\n",
      "0.0033018652613423217\n",
      "15\n"
     ]
    }
   ],
   "source": [
    "V_s1_1 = getE('./images/roi/session1/00151.bmp')\n",
    "record =[]\n",
    "for i in [\"{0:04}\".format(i) for i in range(100)]:\n",
    "    offset = random.randrange(1,9) \n",
    "    Vtest = getE('./images/roi/session2/'+str(i)+str(offset)+'.bmp')\n",
    "#     Vtest2 = getE('./images/roi/session2/'+str(i)+str(offset)+'.bmp')\n",
    "#     Vtest3 = getE('./images/roi/session2/'+str(i)+str(offset-1)+'.bmp')\n",
    "#     Vtest = Vtest1 + Vtest2 + Vtest3\n",
    "#     Vtest = Vtest/3\n",
    "    record.append(sum(dist(V_s1_1, Vtest,l,ci)))\n",
    "print(min(record))\n",
    "print(max(record)/100)\n",
    "print(record.index(min(record)))"
   ]
  },
  {
   "cell_type": "code",
   "execution_count": 10,
   "metadata": {},
   "outputs": [],
   "source": [
    "record =[]\n",
    "for i in [\"{0:05}\".format(i) for i in range(151,161)]:\n",
    "#     print(i)\n",
    "    offset = random.randrange(10) \n",
    "    Vtest = getE('./images/roi/session2/'+i+'.bmp')\n",
    "    record.append(sum(dist(V_s1_1, Vtest,l,ci)))"
   ]
  },
  {
   "cell_type": "code",
   "execution_count": 11,
   "metadata": {},
   "outputs": [
    {
     "name": "stdout",
     "output_type": "stream",
     "text": [
      "[0.11666201262980237, 0.12285192460850801, 0.14603317481693093, 0.09866831463014436, 0.11526725616913543, 0.11130669736898237, 0.11459738861446586, 0.16845677832035683, 0.11792073066685561, 0.11583011880166943]\n"
     ]
    }
   ],
   "source": [
    "print(record)"
   ]
  },
  {
   "cell_type": "code",
   "execution_count": 14,
   "metadata": {},
   "outputs": [
    {
     "name": "stdout",
     "output_type": "stream",
     "text": [
      "3\n"
     ]
    }
   ],
   "source": [
    "counter = 0\n",
    "for i in record:\n",
    "    if i < 0.2:\n",
    "        counter+=1\n",
    "print(counter)"
   ]
  }
 ],
 "metadata": {
  "kernelspec": {
   "display_name": "Python 3",
   "language": "python",
   "name": "python3"
  },
  "language_info": {
   "codemirror_mode": {
    "name": "ipython",
    "version": 3
   },
   "file_extension": ".py",
   "mimetype": "text/x-python",
   "name": "python",
   "nbconvert_exporter": "python",
   "pygments_lexer": "ipython3",
   "version": "3.7.9"
  }
 },
 "nbformat": 4,
 "nbformat_minor": 4
}
